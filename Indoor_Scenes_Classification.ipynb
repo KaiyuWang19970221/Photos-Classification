{
  "cells": [
    {
      "cell_type": "markdown",
      "metadata": {
        "id": "TcxIlkn3g9gZ"
      },
      "source": [
        "# Indoor Scenes Classification\n",
        "\n",
        "**Background:**  \n",
        "Even though many scene detection AIs are able to detect the outdoor scene accurately, those AIs fail to detect indoor scenes. The key challenge of classifying indoor scenes is that the algorithm needs to be able to use partial scene features (ex. objects) to accurately identify the scene while general scene detection algorithms focus on using global spatial properties. \n",
        "\n",
        "**Potential Implementation:**   \n",
        "If a user intends to search for an image of an indoor scene (Ex. coffee shops) on the internet, a normal approach will be comparing the image with millions of images in the dataset and find the most similar ones and then feed the user the results. While all the indoor scene images in the database can be pre-classified into different categories of scenes (Ex. Libraries, restaurants, etc.), the search engine will then be able to firstly detect the scene of the user-uploaded image, and then compare the image with all images that belong to the detected scene rather than all images in the database. If the scene of the uploaded image is accurately categorized, it would save enormous computational resources, reduce search time, and increase the accuracy of the result. "
      ]
    },
    {
      "cell_type": "markdown",
      "metadata": {
        "id": "h2xD1fJphNpM"
      },
      "source": [
        "## 1. SOURCE"
      ]
    },
    {
      "cell_type": "markdown",
      "metadata": {
        "id": "3BmgEaqQhUu3"
      },
      "source": [
        "### 1.1 Used Dataset"
      ]
    },
    {
      "cell_type": "markdown",
      "metadata": {
        "id": "Xy8pbJu_hb9m"
      },
      "source": [
        ">Indoor Scene Recognition.([This Link](https://www.???))\n",
        ">- The database contains 67 Indoor categories and a total of 15620 images. The number of images varies across categories, but there are at least 100 images per category. .\n",
        ">- Data Provided by: Thanks to Aude Oliva for helping to create the database of indoor scenes. Funding for this research was provided by NSF Career award (IIS 0747120)."
      ]
    },
    {
      "cell_type": "markdown",
      "metadata": {
        "id": "XPCtK9suhvhN"
      },
      "source": [
        "### 1.2 Import Libraries"
      ]
    },
    {
      "cell_type": "code",
      "execution_count": null,
      "metadata": {
        "id": "szdK0AZRhvGj"
      },
      "outputs": [],
      "source": [
        "# Importing required libraries\n",
        "import torch\n",
        "import torchvision.transforms as transforms\n",
        "import torchvision.datasets as datasets\n",
        "import torchvision.models as models\n",
        "import torch.nn as nn\n",
        "import torch.optim as optim\n",
        "\n",
        "import matplotlib.pyplot as plt\n",
        "import seaborn as sns\n",
        "import numpy as np\n",
        "np.random.seed(42)\n",
        "import random as rn\n",
        "rn.seed(42)\n",
        "import tensorflow as tf\n",
        "tf.random.set_seed(42)\n",
        "import pandas as pd\n",
        "import PIL\n",
        "from PIL import Image\n",
        "import pathlib\n",
        "import math\n",
        "import zipfile\n",
        "import os\n",
        "import urllib\n",
        "from google.colab.patches import cv2_imshow \n",
        "import cv2\n",
        "import glob\n",
        "import tensorflow as tf\n",
        "\n",
        "import keras\n",
        "from keras import backend as K\n",
        "from keras.models import Sequential, Model\n",
        "from keras.layers import Input, Lambda, Dense, Flatten, GlobalMaxPool3D, BatchNormalization, Dropout, Activation\n",
        "from keras.callbacks import ModelCheckpoint, ReduceLROnPlateau\n",
        "from keras import layers\n",
        "from keras import optimizers\n",
        "from keras.regularizers import l2\n",
        "from keras.models import load_model\n",
        "from keras.applications.inception_v3 import InceptionV3\n",
        "from keras.applications.xception import Xception\n",
        "from keras.applications.inception_resnet_v2 import InceptionResNetV2\n",
        "from keras.layers import Conv2D , MaxPool2D , Flatten\n",
        "from keras.layers.normalization.batch_normalization_v1 import BatchNormalization\n",
        "from keras.preprocessing.image import ImageDataGenerator\n",
        "from tensorflow.keras.optimizers import Adam\n",
        "from sklearn.metrics import classification_report,confusion_matrix"
      ]
    },
    {
      "cell_type": "code",
      "execution_count": null,
      "metadata": {
        "id": "WxFtTzv1i6B-"
      },
      "outputs": [],
      "source": [
        "# Importing required libraries\n",
        "import os\n",
        "import pathlib\n",
        "import math\n",
        "import matplotlib.pyplot as plt\n",
        "import cv2\n",
        "from google.colab.patches import cv2_imshow \n",
        "import numpy as np\n",
        "np.random.seed(42)\n",
        "import random as rn\n",
        "rn.seed(42)\n",
        "from keras import backend as K\n",
        "import tensorflow as tf\n",
        "tf.random.set_seed(42)\n",
        "import keras\n",
        "from keras.models import Sequential, Model\n",
        "from keras.layers import Input, Lambda, Dense, Flatten, GlobalMaxPool3D, BatchNormalization, Dropout, Activation\n",
        "from keras.callbacks import ModelCheckpoint, ReduceLROnPlateau\n",
        "from keras import optimizers\n",
        "from keras.regularizers import l2\n",
        "from keras.models import load_model\n",
        "from keras.applications.inception_v3 import InceptionV3\n",
        "from keras.applications.xception import Xception\n",
        "from keras.applications.inception_resnet_v2 import InceptionResNetV2"
      ]
    },
    {
      "cell_type": "markdown",
      "metadata": {
        "id": "uynDz7R_hW9a"
      },
      "source": [
        "### 1.3 Import Dataset"
      ]
    },
    {
      "cell_type": "code",
      "execution_count": null,
      "metadata": {
        "colab": {
          "base_uri": "https://localhost:8080/"
        },
        "id": "9PX2xh-Vhmwg",
        "outputId": "6c03dd39-6c13-4e5d-c719-5972db40736a"
      },
      "outputs": [
        {
          "name": "stdout",
          "output_type": "stream",
          "text": [
            "--2022-03-18 00:19:25--  https://github.com/KaiyuWang19970221/BA865/archive/refs/heads/main.zip\n",
            "Resolving github.com (github.com)... 140.82.121.4\n",
            "Connecting to github.com (github.com)|140.82.121.4|:443... connected.\n",
            "HTTP request sent, awaiting response... 302 Found\n",
            "Location: https://codeload.github.com/KaiyuWang19970221/BA865/zip/refs/heads/main [following]\n",
            "--2022-03-18 00:19:25--  https://codeload.github.com/KaiyuWang19970221/BA865/zip/refs/heads/main\n",
            "Resolving codeload.github.com (codeload.github.com)... 140.82.121.9\n",
            "Connecting to codeload.github.com (codeload.github.com)|140.82.121.9|:443... connected.\n",
            "HTTP request sent, awaiting response... 200 OK\n",
            "Length: unspecified [application/zip]\n",
            "Saving to: ‘/tmp/image.zip’\n",
            "\n",
            "/tmp/image.zip          [ <=>                ]   2.28G  20.1MB/s    in 1m 57s  \n",
            "\n",
            "2022-03-18 00:21:23 (19.9 MB/s) - ‘/tmp/image.zip’ saved [2452993858]\n",
            "\n"
          ]
        }
      ],
      "source": [
        "!wget --no-check-certificate \\\n",
        "    \"https://github.com/LinhTo11/Capstone\" \\\n",
        "    -O \"/tmp/image.zip\"\n",
        "\n",
        "\n",
        "zip_ref = zipfile.ZipFile('/tmp/image.zip', 'r') \n",
        "zip_ref.extractall('/tmp')\n",
        "zip_ref.close()"
      ]
    },
    {
      "cell_type": "code",
      "execution_count": null,
      "metadata": {
        "colab": {
          "base_uri": "https://localhost:8080/"
        },
        "id": "lrhpa5NVi2cI",
        "outputId": "89750ca6-ce81-433b-b525-3bfc96d1b6ea"
      },
      "outputs": [
        {
          "name": "stdout",
          "output_type": "stream",
          "text": [
            "67\n"
          ]
        }
      ],
      "source": [
        "# check how many labels\n",
        "dataset = '/tmp/BA865-main/Images'\n",
        "print(len(os.listdir(dataset)))"
      ]
    },
    {
      "cell_type": "markdown",
      "metadata": {
        "id": "dBWvuYe4UZbF"
      },
      "source": [
        "## 2. Simple Model 1 (19.00%)"
      ]
    },
    {
      "cell_type": "markdown",
      "metadata": {
        "id": "n-s3Ck4JU1w0"
      },
      "source": [
        "### 2.1 Split dataset"
      ]
    },
    {
      "cell_type": "code",
      "execution_count": null,
      "metadata": {
        "id": "Ob9SjyqSKpV0"
      },
      "outputs": [],
      "source": [
        "datagen=keras.preprocessing.image.ImageDataGenerator(rescale=1./255, zoom_range=0.2, horizontal_flip=True)"
      ]
    },
    {
      "cell_type": "markdown",
      "metadata": {
        "id": "dpL8KCBs15jh"
      },
      "source": [
        ">Preprocess strategies:\n",
        ">- Rescale : Our image are already in a standard size (180x180), as they are being yielded as contiguous float32 batches by our dataset. However, their RGB channel values are in the [0, 255] range. This is not ideal for a neural network; in general you should seek to make your input values small. Therefore we preprocess our images by using 1.0/255 to rescale, so that we could standardize values to be close to the [0, 1] \n",
        ">- Horizontal_ flip : We could artifically introduce diversity into our dataset by using horizontal flipping. This helps expose the model to different aspects of the training data while slowing down overfitting.\n",
        ">- Zoom : Since indoor sence pictures normally look very similar in general, we added zoom in as part of our pre-process, this way we could get more detials about the sense. This way we could improve our accuracy. "
      ]
    },
    {
      "cell_type": "code",
      "execution_count": null,
      "metadata": {
        "colab": {
          "base_uri": "https://localhost:8080/"
        },
        "id": "hldi1UxoKrI_",
        "outputId": "065ea58f-942b-4b69-d35e-76a3646409a6"
      },
      "outputs": [
        {
          "name": "stdout",
          "output_type": "stream",
          "text": [
            "Found 10640 images belonging to 67 classes.\n"
          ]
        }
      ],
      "source": [
        "train_data = datagen.flow_from_directory(\n",
        "        directory=r'/tmp/BA865-main/Images2/train',\n",
        "        target_size=(180, 180),\n",
        "        batch_size=32,\n",
        "        class_mode=\"categorical\")"
      ]
    },
    {
      "cell_type": "code",
      "execution_count": null,
      "metadata": {
        "colab": {
          "base_uri": "https://localhost:8080/"
        },
        "id": "KCaz2BUeKy9Y",
        "outputId": "cdfb7265-0246-4fc2-b8e4-72347cdf2983"
      },
      "outputs": [
        {
          "name": "stdout",
          "output_type": "stream",
          "text": [
            "Found 1584 images belonging to 67 classes.\n"
          ]
        }
      ],
      "source": [
        "test_data = datagen.flow_from_directory(\n",
        "    directory=r\"/tmp/BA865-main/Images2/test\",\n",
        "    target_size=(180, 180),\n",
        "    color_mode=\"rgb\",\n",
        "    batch_size=32,\n",
        "    class_mode=\"categorical\"\n",
        ")"
      ]
    },
    {
      "cell_type": "code",
      "execution_count": null,
      "metadata": {
        "colab": {
          "base_uri": "https://localhost:8080/"
        },
        "id": "e5-e5NxVMNBw",
        "outputId": "17cd0252-9efc-4fc6-a6af-73e3589d9438"
      },
      "outputs": [
        {
          "name": "stdout",
          "output_type": "stream",
          "text": [
            "Found 3027 images belonging to 67 classes.\n"
          ]
        }
      ],
      "source": [
        "valid_data = datagen.flow_from_directory(\n",
        "    directory=r\"/tmp/BA865-main/Images2/val\",\n",
        "    target_size=(180, 180),\n",
        "    color_mode=\"rgb\",\n",
        "    batch_size=32,\n",
        "    class_mode=\"categorical\"\n",
        ")"
      ]
    },
    {
      "cell_type": "markdown",
      "metadata": {
        "id": "MYfhwE0yU8mW"
      },
      "source": [
        "### 2.2 Bulid model"
      ]
    },
    {
      "cell_type": "code",
      "execution_count": null,
      "metadata": {
        "colab": {
          "base_uri": "https://localhost:8080/"
        },
        "id": "JqL8jRr8K2S2",
        "outputId": "ec98afe4-643b-4e98-cc23-9ce653d34619"
      },
      "outputs": [
        {
          "name": "stdout",
          "output_type": "stream",
          "text": [
            "Model: \"sequential\"\n",
            "_________________________________________________________________\n",
            " Layer (type)                Output Shape              Param #   \n",
            "=================================================================\n",
            " conv2d_3 (Conv2D)           (None, 178, 178, 32)      896       \n",
            "                                                                 \n",
            " activation (Activation)     (None, 178, 178, 32)      0         \n",
            "                                                                 \n",
            " max_pooling2d_4 (MaxPooling  (None, 89, 89, 32)       0         \n",
            " 2D)                                                             \n",
            "                                                                 \n",
            " conv2d_4 (Conv2D)           (None, 87, 87, 32)        9248      \n",
            "                                                                 \n",
            " activation_1 (Activation)   (None, 87, 87, 32)        0         \n",
            "                                                                 \n",
            " max_pooling2d_5 (MaxPooling  (None, 43, 43, 32)       0         \n",
            " 2D)                                                             \n",
            "                                                                 \n",
            " conv2d_5 (Conv2D)           (None, 41, 41, 64)        18496     \n",
            "                                                                 \n",
            " activation_2 (Activation)   (None, 41, 41, 64)        0         \n",
            "                                                                 \n",
            " max_pooling2d_6 (MaxPooling  (None, 20, 20, 64)       0         \n",
            " 2D)                                                             \n",
            "                                                                 \n",
            " flatten_1 (Flatten)         (None, 25600)             0         \n",
            "                                                                 \n",
            " dense_1 (Dense)             (None, 64)                1638464   \n",
            "                                                                 \n",
            " activation_3 (Activation)   (None, 64)                0         \n",
            "                                                                 \n",
            " dropout (Dropout)           (None, 64)                0         \n",
            "                                                                 \n",
            " dense_2 (Dense)             (None, 67)                4355      \n",
            "                                                                 \n",
            " activation_4 (Activation)   (None, 67)                0         \n",
            "                                                                 \n",
            "=================================================================\n",
            "Total params: 1,671,459\n",
            "Trainable params: 1,671,459\n",
            "Non-trainable params: 0\n",
            "_________________________________________________________________\n"
          ]
        }
      ],
      "source": [
        "from keras.models import Sequential\n",
        "from keras.layers import Conv2D, MaxPooling2D\n",
        "from keras.layers import Activation, Dropout, Flatten, Dense\n",
        "#Adding sequential model in keras\n",
        "model = Sequential()\n",
        "# Image size 64*64 \n",
        "model.add(Conv2D(32, (3, 3), input_shape=(180, 180, 3)))\n",
        "#ReLu adds nonlinearity to the network.\n",
        "model.add(Activation('relu'))\n",
        "# Pooling helps to reduce dimensions.\n",
        "model.add(MaxPooling2D(pool_size=(2, 2)))\n",
        "\n",
        "model.add(Conv2D(32, (3, 3)))\n",
        "model.add(Activation('relu'))\n",
        "model.add(MaxPooling2D(pool_size=(2, 2)))\n",
        "\n",
        "model.add(Conv2D(64, (3, 3)))\n",
        "model.add(Activation('relu'))\n",
        "model.add(MaxPooling2D(pool_size=(2, 2)))\n",
        "#Fully connected layer to detect final high level features.\n",
        "model.add(Flatten())  \n",
        "model.add(Dense(64))\n",
        "model.add(Activation('relu'))\n",
        "#Dropout is added to reduce overfitting.\n",
        "model.add(Dropout(0.5))\n",
        "\n",
        "model.add(Dense(67))\n",
        "model.add(Activation('softmax'))\n",
        "\n",
        "model.compile(loss='categorical_crossentropy',\n",
        "              optimizer='rmsprop',\n",
        "              metrics=['accuracy'])\n",
        "\n",
        "model.summary()"
      ]
    },
    {
      "cell_type": "code",
      "execution_count": null,
      "metadata": {
        "colab": {
          "base_uri": "https://localhost:8080/",
          "height": 1000
        },
        "id": "rxU6cUAuWlYO",
        "outputId": "51da5269-a5e2-42b2-dcc2-888c189ee6d0"
      },
      "outputs": [
        {
          "data": {
            "image/png": "[encoded data removed]",
            "text/plain": [
              "<IPython.core.display.Image object>"
            ]
          },
          "execution_count": 23,
          "metadata": {},
          "output_type": "execute_result"
        }
      ],
      "source": [
        "from keras.utils.vis_utils import plot_model\n",
        "keras.utils.vis_utils.plot_model(model, show_shapes=True)"
      ]
    },
    {
      "cell_type": "code",
      "execution_count": null,
      "metadata": {
        "id": "ug2qMWowJqRV"
      },
      "outputs": [],
      "source": [
        "# import tensorflow as tf\n",
        "# config = tf.compat.v1.ConfigProto()\n",
        "# config.gpu_options.allow_growth = True\n",
        "# sess = tf.compat.v1.Session(config=config)"
      ]
    },
    {
      "cell_type": "code",
      "execution_count": null,
      "metadata": {
        "colab": {
          "background_save": true,
          "base_uri": "https://localhost:8080/"
        },
        "id": "cGb1FKvAK8r1",
        "outputId": "a1fa2566-17f4-49b7-ea5c-c6d0f47b842b"
      },
      "outputs": [
        {
          "name": "stderr",
          "output_type": "stream",
          "text": [
            "/usr/local/lib/python3.7/dist-packages/ipykernel_launcher.py:4: UserWarning: `Model.fit_generator` is deprecated and will be removed in a future version. Please use `Model.fit`, which supports generators.\n",
            "  after removing the cwd from sys.path.\n"
          ]
        },
        {
          "name": "stdout",
          "output_type": "stream",
          "text": [
            "Epoch 1/10\n",
            "333/333 [==============================] - 161s 478ms/step - loss: 4.0812 - accuracy: 0.0459 - val_loss: 3.9365 - val_accuracy: 0.0925\n",
            "Epoch 2/10\n",
            "333/333 [==============================] - 159s 477ms/step - loss: 3.9180 - accuracy: 0.0720 - val_loss: 3.7306 - val_accuracy: 0.1130\n",
            "Epoch 3/10\n",
            "333/333 [==============================] - 158s 476ms/step - loss: 3.7986 - accuracy: 0.0888 - val_loss: 3.6818 - val_accuracy: 0.1179\n",
            "Epoch 4/10\n",
            "333/333 [==============================] - 159s 477ms/step - loss: 3.7094 - accuracy: 0.0983 - val_loss: 3.4952 - val_accuracy: 0.1592\n",
            "Epoch 5/10\n",
            "333/333 [==============================] - 158s 476ms/step - loss: 3.6378 - accuracy: 0.1123 - val_loss: 3.4625 - val_accuracy: 0.1625\n",
            "Epoch 6/10\n",
            "333/333 [==============================] - 158s 476ms/step - loss: 3.5704 - accuracy: 0.1262 - val_loss: 3.3609 - val_accuracy: 0.1715\n",
            "Epoch 7/10\n",
            "333/333 [==============================] - 159s 477ms/step - loss: 3.5295 - accuracy: 0.1246 - val_loss: 3.3451 - val_accuracy: 0.1738\n",
            "Epoch 8/10\n",
            "333/333 [==============================] - 158s 476ms/step - loss: 3.4786 - accuracy: 0.1394 - val_loss: 3.2711 - val_accuracy: 0.1906\n",
            "Epoch 9/10\n",
            "333/333 [==============================] - 159s 477ms/step - loss: 3.4479 - accuracy: 0.1398 - val_loss: 3.2545 - val_accuracy: 0.1939\n",
            "Epoch 10/10\n",
            "333/333 [==============================] - 159s 477ms/step - loss: 3.4210 - accuracy: 0.1480 - val_loss: 3.3215 - val_accuracy: 0.1933\n"
          ]
        }
      ],
      "source": [
        "history=model.fit_generator(\n",
        "        train_data,\n",
        "        epochs=10,\n",
        "        validation_data=valid_data\n",
        "        )"
      ]
    },
    {
      "cell_type": "markdown",
      "metadata": {
        "id": "mfKnA5FzSscu"
      },
      "source": [
        "### 2.3 Model evaluation"
      ]
    },
    {
      "cell_type": "code",
      "execution_count": null,
      "metadata": {
        "colab": {
          "background_save": true
        },
        "id": "abWvX92oyR4z",
        "outputId": "0db97f59-f676-4f1d-f06e-8267706ac501"
      },
      "outputs": [
        {
          "data": {
            "image/png": "[encoded data removed]",
            "text/plain": [
              "<Figure size 432x288 with 1 Axes>"
            ]
          },
          "metadata": {},
          "output_type": "display_data"
        }
      ],
      "source": [
        "fig1 = plt.gcf()\n",
        "plt.plot(history.history['accuracy'])\n",
        "plt.plot(history.history['val_accuracy'])\n",
        "plt.axis(ymin=0,ymax=0.3)\n",
        "plt.grid()\n",
        "plt.title('Model Accuracy')\n",
        "plt.ylabel('Accuracy')\n",
        "plt.xlabel('Epochs')\n",
        "plt.legend(['train', 'validation'])\n",
        "plt.show()"
      ]
    },
    {
      "cell_type": "code",
      "execution_count": null,
      "metadata": {
        "colab": {
          "background_save": true
        },
        "id": "VCaq4DU5S12J",
        "outputId": "6a4da07d-3379-4114-8e5d-2d9a2281d837"
      },
      "outputs": [
        {
          "name": "stdout",
          "output_type": "stream",
          "text": [
            "50/50 [==============================] - 19s 369ms/step - loss: 3.3254 - accuracy: 0.1900\n"
          ]
        }
      ],
      "source": [
        "accuracy = model.evaluate(test_data,batch_size=32)"
      ]
    },
    {
      "cell_type": "markdown",
      "metadata": {
        "id": "h6u6fgWMh-AL"
      },
      "source": [
        "## 3. Simple Model 2 with data augmentation (19.32%)"
      ]
    },
    {
      "cell_type": "markdown",
      "metadata": {
        "id": "yjahrzU2j3h8"
      },
      "source": [
        "### 3.1 Split image folders into training,val and test"
      ]
    },
    {
      "cell_type": "code",
      "execution_count": null,
      "metadata": {
        "colab": {
          "base_uri": "https://localhost:8080/"
        },
        "id": "y2BEZjB1opvp",
        "outputId": "5a91d533-e236-412a-8847-4c2b2b00d665"
      },
      "outputs": [
        {
          "name": "stdout",
          "output_type": "stream",
          "text": [
            "Collecting split-folders\n",
            "  Downloading split_folders-0.5.1-py3-none-any.whl (8.4 kB)\n",
            "Installing collected packages: split-folders\n",
            "Successfully installed split-folders-0.5.1\n"
          ]
        }
      ],
      "source": [
        "!pip install split-folders"
      ]
    },
    {
      "cell_type": "code",
      "execution_count": null,
      "metadata": {
        "id": "W43y3aQLrWZ7"
      },
      "outputs": [],
      "source": [
        "import splitfolders"
      ]
    },
    {
      "cell_type": "code",
      "execution_count": null,
      "metadata": {
        "colab": {
          "base_uri": "https://localhost:8080/"
        },
        "id": "t6szncViq9Vm",
        "outputId": "23b5aa3f-627e-411b-c237-dd7b9caacb41"
      },
      "outputs": [
        {
          "name": "stderr",
          "output_type": "stream",
          "text": [
            "Copying files: 15282 files [00:07, 1970.59 files/s]\n"
          ]
        }
      ],
      "source": [
        "input_folder='/tmp/BA865-main/Images'\n",
        "splitfolders.ratio(input_folder,output='/tmp/BA865-main/Images2',\n",
        "                   seed=865, ratio=(.7,.2,.1),\n",
        "                   group_prefix=None\n",
        ")"
      ]
    },
    {
      "cell_type": "markdown",
      "metadata": {
        "id": "VPMnVuHAsG8H"
      },
      "source": [
        "### 3.2 Creating traning,val and test dataset"
      ]
    },
    {
      "cell_type": "code",
      "execution_count": null,
      "metadata": {
        "id": "kNMSIVVvScdc"
      },
      "outputs": [],
      "source": [
        "from tensorflow.keras.utils import image_dataset_from_directory"
      ]
    },
    {
      "cell_type": "code",
      "execution_count": null,
      "metadata": {
        "colab": {
          "base_uri": "https://localhost:8080/"
        },
        "id": "Q1cuSnsqLNBC",
        "outputId": "0d9380d7-53fa-4987-f448-32b241049847"
      },
      "outputs": [
        {
          "name": "stdout",
          "output_type": "stream",
          "text": [
            "26 corrupted files were found in folder: /train/\n",
            "1 corrupted files were found in folder: /test/\n",
            "4 corrupted files were found in folder: /val/\n"
          ]
        }
      ],
      "source": [
        "#We noticed that when using image_dataset_from directory, some of the images couldn't be read for some unknown reason\n",
        "#Thus, we used thus block of code to find those images that couldn't be read\n",
        "folders = ['/train/','/test/','/val/']\n",
        "basePath = '/tmp/BA865-main/Images2'\n",
        "corrupted = []\n",
        "for folder in folders:\n",
        "  #count the number of corrupted files in different folders\n",
        "  n=0\n",
        "  for classname in os.listdir(basePath + folder):\n",
        "    for filename in os.listdir(basePath + folder + classname):\n",
        "      try: \n",
        "        #Try using cv2 and tfio.read_file to double check if the image is readable\n",
        "        img = cv2.imread(basePath + folder + classname + '/' + filename)\n",
        "        dimensions = img.shape\n",
        "        img_bytes = tf.io.read_file(basePath + folder + classname + '/' + filename)\n",
        "        decoded_img = tf.io.decode_image(img_bytes)\n",
        "      except:\n",
        "        corrupted.append(basePath + folder + classname + '/' + filename)\n",
        "        n+=1\n",
        "  print('{num} corrupted files were found in folder: {folder}'.format(num=n,folder = folder))"
      ]
    },
    {
      "cell_type": "code",
      "execution_count": null,
      "metadata": {
        "id": "ngyMeoXkMtu4"
      },
      "outputs": [],
      "source": [
        "#remove the corrupted files \n",
        "import shutil\n",
        "for path in corrupted:\n",
        "  os.remove(path)"
      ]
    },
    {
      "cell_type": "code",
      "execution_count": null,
      "metadata": {
        "colab": {
          "base_uri": "https://localhost:8080/"
        },
        "id": "WAMU3heXSdWM",
        "outputId": "afe4345b-e3c1-424e-80d7-311cc4e3a773"
      },
      "outputs": [
        {
          "name": "stdout",
          "output_type": "stream",
          "text": [
            "Found 10640 files belonging to 67 classes.\n"
          ]
        }
      ],
      "source": [
        "train_dataset = image_dataset_from_directory(\n",
        "    directory=r'/tmp/BA865-main/Images2/train',\n",
        "    labels=\"inferred\",\n",
        "    #marked label as categorical otherwise for one-hoe encoding\n",
        "    label_mode=\"categorical\",\n",
        "    image_size=(180,180)\n",
        "    )"
      ]
    },
    {
      "cell_type": "code",
      "execution_count": null,
      "metadata": {
        "colab": {
          "base_uri": "https://localhost:8080/"
        },
        "id": "ohVj6o6hSj9E",
        "outputId": "ecbf5871-32eb-4701-98a5-a1983f9fa42e"
      },
      "outputs": [
        {
          "name": "stdout",
          "output_type": "stream",
          "text": [
            "Found 1584 files belonging to 67 classes.\n"
          ]
        }
      ],
      "source": [
        "test_dataset = image_dataset_from_directory(\n",
        "    directory=r'/tmp/BA865-main/Images2/test',\n",
        "    #labels=\"inferred\",\n",
        "    #marked label as categorical otherwise for one-hoe encoding\n",
        "    label_mode=\"categorical\",\n",
        "    image_size=(180,180)\n",
        "    )"
      ]
    },
    {
      "cell_type": "code",
      "execution_count": null,
      "metadata": {
        "colab": {
          "base_uri": "https://localhost:8080/"
        },
        "id": "CqnfdGBUSm9L",
        "outputId": "21a22c26-11b0-494f-835d-542715b03ceb"
      },
      "outputs": [
        {
          "name": "stdout",
          "output_type": "stream",
          "text": [
            "Found 3027 files belonging to 67 classes.\n"
          ]
        }
      ],
      "source": [
        "valid_dataset = image_dataset_from_directory(\n",
        "    directory=r'/tmp/BA865-main/Images2/val',\n",
        "    labels=\"inferred\",\n",
        "    #marked label as categorical otherwise for one-hoe encoding\n",
        "    label_mode=\"categorical\",\n",
        "    image_size=(180,180)\n",
        "    )"
      ]
    },
    {
      "cell_type": "markdown",
      "metadata": {
        "id": "INBIa6rDmgq8"
      },
      "source": [
        "### 3.3 Build our own models"
      ]
    },
    {
      "cell_type": "code",
      "execution_count": null,
      "metadata": {
        "id": "QqRSqv7PSy7i"
      },
      "outputs": [],
      "source": [
        "input= keras.Input(shape=(180, 180, 3))\n",
        "x = BatchNormalization()(input)\n",
        "x = layers.MaxPooling2D(pool_size=2)(x)\n",
        "x = layers.Conv2D(filters=32, kernel_size=3, activation=\"relu\")(x)\n",
        "x = BatchNormalization()(x)\n",
        "x = layers.MaxPooling2D(pool_size=2)(x)\n",
        "x = layers.Conv2D(filters=64, kernel_size=3, activation=\"relu\")(x)\n",
        "x = BatchNormalization()(x)\n",
        "x = layers.MaxPooling2D(pool_size=2)(x)\n",
        "x = layers.Conv2D(filters=128, kernel_size=3, activation=\"relu\")(x)\n",
        "x = BatchNormalization()(x)\n",
        "x = layers.MaxPooling2D(pool_size=2)(x)\n",
        "x = layers.Flatten()(x)\n",
        "#noticed overfitting\n",
        "output = layers.Dense(67, activation=\"softmax\")(x)\n",
        "model = keras.Model(input, output)"
      ]
    },
    {
      "cell_type": "code",
      "execution_count": null,
      "metadata": {
        "colab": {
          "base_uri": "https://localhost:8080/"
        },
        "id": "RW5uXUoRS7hD",
        "outputId": "7192777b-c8bd-4410-f41f-91f267b7d9e0"
      },
      "outputs": [
        {
          "name": "stdout",
          "output_type": "stream",
          "text": [
            "Epoch 1/10\n",
            "333/333 [==============================] - 29s 55ms/step - loss: 6.3611 - accuracy: 0.0990 - val_loss: 6.5543 - val_accuracy: 0.0737\n",
            "Epoch 2/10\n",
            "333/333 [==============================] - 18s 54ms/step - loss: 3.8625 - accuracy: 0.2329 - val_loss: 4.8518 - val_accuracy: 0.1361\n",
            "Epoch 3/10\n",
            "333/333 [==============================] - 18s 54ms/step - loss: 2.2915 - accuracy: 0.4261 - val_loss: 4.5335 - val_accuracy: 0.1632\n",
            "Epoch 4/10\n",
            "333/333 [==============================] - 18s 54ms/step - loss: 1.2793 - accuracy: 0.6356 - val_loss: 4.7741 - val_accuracy: 0.1682\n",
            "Epoch 5/10\n",
            "333/333 [==============================] - 18s 54ms/step - loss: 0.6779 - accuracy: 0.7968 - val_loss: 5.0568 - val_accuracy: 0.1724\n",
            "Epoch 6/10\n",
            "333/333 [==============================] - 19s 55ms/step - loss: 0.3714 - accuracy: 0.8873 - val_loss: 5.5351 - val_accuracy: 0.1860\n",
            "Epoch 7/10\n",
            "333/333 [==============================] - 19s 55ms/step - loss: 0.2381 - accuracy: 0.9263 - val_loss: 5.8704 - val_accuracy: 0.1830\n",
            "Epoch 8/10\n",
            "333/333 [==============================] - 19s 55ms/step - loss: 0.1922 - accuracy: 0.9409 - val_loss: 6.2977 - val_accuracy: 0.1969\n",
            "Epoch 9/10\n",
            "333/333 [==============================] - 19s 55ms/step - loss: 0.1904 - accuracy: 0.9428 - val_loss: 6.8569 - val_accuracy: 0.1976\n",
            "Epoch 10/10\n",
            "333/333 [==============================] - 19s 56ms/step - loss: 0.2575 - accuracy: 0.9212 - val_loss: 7.6862 - val_accuracy: 0.1840\n"
          ]
        }
      ],
      "source": [
        "model.compile(optimizer='adam',\n",
        "              loss='categorical_crossentropy',\n",
        "              metrics=[\"accuracy\"])\n",
        "\n",
        "history = model.fit(train_dataset,\n",
        "                    epochs=10, \n",
        "                    batch_size=25,\n",
        "                    validation_data=valid_dataset\n",
        "                    )"
      ]
    },
    {
      "cell_type": "markdown",
      "metadata": {
        "id": "S_NkxZM3TC6Y"
      },
      "source": [
        "### 3.4 Model evaluation"
      ]
    },
    {
      "cell_type": "code",
      "execution_count": null,
      "metadata": {
        "colab": {
          "base_uri": "https://localhost:8080/",
          "height": 295
        },
        "id": "0Z-i8yetTLCU",
        "outputId": "11f95ace-1a7f-44bd-e030-4d92e9d62e27"
      },
      "outputs": [
        {
          "data": {
            "image/png": "[encoded data removed]",
            "text/plain": [
              "<Figure size 432x288 with 1 Axes>"
            ]
          },
          "metadata": {},
          "output_type": "display_data"
        }
      ],
      "source": [
        "fig1 = plt.gcf()\n",
        "plt.plot(history.history['accuracy'])\n",
        "plt.plot(history.history['val_accuracy'])\n",
        "plt.axis(ymin=0,ymax=1)\n",
        "plt.grid()\n",
        "plt.title('Model Accuracy')\n",
        "plt.ylabel('Accuracy')\n",
        "plt.xlabel('Epochs')\n",
        "plt.legend(['train', 'validation'])\n",
        "plt.show()"
      ]
    },
    {
      "cell_type": "code",
      "execution_count": null,
      "metadata": {
        "colab": {
          "base_uri": "https://localhost:8080/"
        },
        "id": "0hq0qW4sTGTS",
        "outputId": "9b1c1426-1165-42fb-d97a-ac5ab564dd89"
      },
      "outputs": [
        {
          "name": "stdout",
          "output_type": "stream",
          "text": [
            "50/50 [==============================] - 2s 36ms/step - loss: 7.5632 - accuracy: 0.1932\n"
          ]
        }
      ],
      "source": [
        "accuracy = model.evaluate(test_dataset,batch_size=32)"
      ]
    },
    {
      "cell_type": "markdown",
      "metadata": {
        "id": "SseOJVBZTkrN"
      },
      "source": [
        "## 4. Self-made Model+InceptionV3 (79.49%)"
      ]
    },
    {
      "cell_type": "markdown",
      "metadata": {
        "id": "7XcZ2LRSrBu7"
      },
      "source": [
        "### 4.1 Import smaller dataset"
      ]
    },
    {
      "cell_type": "code",
      "execution_count": null,
      "metadata": {
        "colab": {
          "background_save": true
        },
        "id": "IavANyeArHvV",
        "outputId": "6a45986e-6f74-4dee-a8e4-a326b330fd38"
      },
      "outputs": [
        {
          "name": "stdout",
          "output_type": "stream",
          "text": [
            "--2022-03-18 00:54:35--  https://github.com/KaiyuWang19970221/BA865_2/archive/refs/heads/main.zip\n",
            "Resolving github.com (github.com)... 140.82.121.3\n",
            "Connecting to github.com (github.com)|140.82.121.3|:443... connected.\n",
            "HTTP request sent, awaiting response... 302 Found\n",
            "Location: https://codeload.github.com/KaiyuWang19970221/BA865_2/zip/refs/heads/main [following]\n",
            "--2022-03-18 00:54:35--  https://codeload.github.com/KaiyuWang19970221/BA865_2/zip/refs/heads/main\n",
            "Resolving codeload.github.com (codeload.github.com)... 140.82.121.9\n",
            "Connecting to codeload.github.com (codeload.github.com)|140.82.121.9|:443... connected.\n",
            "HTTP request sent, awaiting response... 200 OK\n",
            "Length: unspecified [application/zip]\n",
            "Saving to: ‘/content/image_small.zip’\n",
            "\n",
            "/content/image_smal     [<=>                 ] 575.55M  20.4MB/s    in 30s     \n",
            "\n",
            "2022-03-18 00:55:05 (19.5 MB/s) - ‘/content/image_small.zip’ saved [603505307]\n",
            "\n"
          ]
        }
      ],
      "source": [
        "!wget --no-check-certificate \\\n",
        "    \"https://github.com/KaiyuWang19970221/BA865_2/archive/refs/heads/main.zip\" \\\n",
        "    -O \"/content/image_small.zip\"\n",
        "\n",
        "\n",
        "zip_ref = zipfile.ZipFile('/content/image_small.zip', 'r') \n",
        "zip_ref.extractall('/content')\n",
        "zip_ref.close()"
      ]
    },
    {
      "cell_type": "markdown",
      "metadata": {
        "id": "SAiejzE3Tt97"
      },
      "source": [
        "### 4.2 Split dataset"
      ]
    },
    {
      "cell_type": "code",
      "execution_count": null,
      "metadata": {
        "colab": {
          "background_save": true
        },
        "id": "2tA0c_cyiYvn",
        "outputId": "982fdaf5-c0c1-4230-a26a-45793854035b"
      },
      "outputs": [
        {
          "name": "stdout",
          "output_type": "stream",
          "text": [
            "3315\n"
          ]
        }
      ],
      "source": [
        "# Training dataset\n",
        "data_path= '/content/BA865_2-main/image/'\n",
        "train_data_dir= pathlib.Path(data_path)\n",
        "image_count= len(list(train_data_dir.glob('*/*.jpg')))\n",
        "print(image_count)\n",
        "\n",
        "# Setting image height, width and batch size\n",
        "img_height= 150\n",
        "img_width= 150\n",
        "batch_size= 64"
      ]
    },
    {
      "cell_type": "code",
      "execution_count": null,
      "metadata": {
        "colab": {
          "background_save": true
        },
        "id": "btiAOQ8Lilg3",
        "outputId": "9a96b531-3459-4d5b-9f19-8d215251cda8"
      },
      "outputs": [
        {
          "name": "stdout",
          "output_type": "stream",
          "text": [
            "Found 3315 files belonging to 10 classes.\n",
            "Using 2652 files for training.\n"
          ]
        }
      ],
      "source": [
        "# Training dataset\n",
        "train_ds= tf.keras.preprocessing.image_dataset_from_directory(train_data_dir, seed= 42, validation_split= 0.2,\n",
        "                                                              subset= 'training',\n",
        "                                                              batch_size= batch_size,\n",
        "                                                              image_size= (img_height, img_width)\n",
        "                                                              )"
      ]
    },
    {
      "cell_type": "code",
      "execution_count": null,
      "metadata": {
        "colab": {
          "background_save": true
        },
        "id": "fZTClELNimpv",
        "outputId": "ea4c9347-7573-4ad8-dec3-f8bfb4e4d66e"
      },
      "outputs": [
        {
          "name": "stdout",
          "output_type": "stream",
          "text": [
            "Found 3315 files belonging to 10 classes.\n",
            "Using 663 files for validation.\n"
          ]
        }
      ],
      "source": [
        "val_ds= tf.keras.preprocessing.image_dataset_from_directory(train_data_dir, seed= 42, validation_split= 0.2,\n",
        "                                                              subset= 'validation',\n",
        "                                                              batch_size= batch_size,\n",
        "                                                              image_size= (img_height, img_width)\n",
        "                                                              )"
      ]
    },
    {
      "cell_type": "markdown",
      "metadata": {
        "id": "qUOKDSMaifRA"
      },
      "source": [
        "### 4.3 Implement inceptionV3 finetuning"
      ]
    },
    {
      "cell_type": "code",
      "execution_count": null,
      "metadata": {
        "colab": {
          "background_save": true
        },
        "id": "cMrT_UDPlMnv"
      },
      "outputs": [],
      "source": [
        "# ## Creating data augmentation layer\n",
        "augmentation_layer= Sequential(\n",
        "  [tf.keras.layers.InputLayer(input_shape= (img_height, img_width, 3)),\n",
        "   tf.keras.layers.RandomFlip('horizontal', seed= 42),\n",
        "   tf.keras.layers.RandomRotation(0.2, fill_mode= 'wrap', seed= 42),\n",
        "   tf.keras.layers.RandomZoom(0.2, seed= 42),\n",
        "   tf.keras.layers.RandomTranslation(.2, .2, fill_mode='wrap', interpolation='bilinear', seed= 42),\n",
        "   tf.keras.layers.RandomContrast(0.2, seed= 42)]\n",
        "   )"
      ]
    },
    {
      "cell_type": "code",
      "execution_count": null,
      "metadata": {
        "colab": {
          "background_save": true
        },
        "id": "7u39WVwslODS"
      },
      "outputs": [],
      "source": [
        "# Function to fine tune InceptionV3\n",
        "def inceptionv3(inp_shape, dropout_rate, train_layers_after):\n",
        "    inceptionv3= InceptionV3(weights= 'imagenet', include_top= False)\n",
        "    for layer in inceptionv3.layers[:train_layers_after]:\n",
        "      layer.trainable= False\n",
        "    input_layer= Input(shape= inp_shape)\n",
        "    data_aug_layer= augmentation_layer(input_layer)\n",
        "    norm_layer= tf.keras.layers.Rescaling(1./255)(data_aug_layer)\n",
        "    cnn_layers= inceptionv3(norm_layer)\n",
        "    flatten_layer= Flatten()(cnn_layers)\n",
        "    dropout_layer1= Dropout(dropout_rate)(flatten_layer)\n",
        "    dense_layer= Dense(1024, activation= 'relu', kernel_initializer= 'he_normal', kernel_regularizer='l2')(dropout_layer1)\n",
        "    dropout_layer2= Dropout(dropout_rate)(dense_layer)\n",
        "    dense_layer_1= Dense(512, activation= 'relu', kernel_initializer= 'he_normal', kernel_regularizer='l2')(dropout_layer2)\n",
        "    dropout_layer3= Dropout(dropout_rate)(dense_layer_1)\n",
        "    output_layer= Dense(10, activation= 'softmax')(dropout_layer3)\n",
        "    model= Model(input_layer, output_layer)\n",
        "    model.compile(optimizer= 'adam', loss= 'sparse_categorical_crossentropy', metrics= ['sparse_categorical_accuracy'])\n",
        "    return model"
      ]
    },
    {
      "cell_type": "code",
      "execution_count": null,
      "metadata": {
        "colab": {
          "background_save": true
        },
        "id": "PSLvOdcSllQn",
        "outputId": "6d840324-27c4-4117-d46d-b7ba69083d42"
      },
      "outputs": [
        {
          "name": "stdout",
          "output_type": "stream",
          "text": [
            "Downloading data from https://storage.googleapis.com/tensorflow/keras-applications/inception_v3/inception_v3_weights_tf_dim_ordering_tf_kernels_notop.h5\n",
            "87916544/87910968 [==============================] - 1s 0us/step\n",
            "87924736/87910968 [==============================] - 1s 0us/step\n",
            "Model: \"model_1\"\n",
            "_________________________________________________________________\n",
            " Layer (type)                Output Shape              Param #   \n",
            "=================================================================\n",
            " input_4 (InputLayer)        [(None, 150, 150, 3)]     0         \n",
            "                                                                 \n",
            " sequential_1 (Sequential)   (None, 150, 150, 3)       0         \n",
            "                                                                 \n",
            " rescaling (Rescaling)       (None, 150, 150, 3)       0         \n",
            "                                                                 \n",
            " inception_v3 (Functional)   (None, None, None, 2048)  21802784  \n",
            "                                                                 \n",
            " flatten_2 (Flatten)         (None, 18432)             0         \n",
            "                                                                 \n",
            " dropout_1 (Dropout)         (None, 18432)             0         \n",
            "                                                                 \n",
            " dense_3 (Dense)             (None, 1024)              18875392  \n",
            "                                                                 \n",
            " dropout_2 (Dropout)         (None, 1024)              0         \n",
            "                                                                 \n",
            " dense_4 (Dense)             (None, 512)               524800    \n",
            "                                                                 \n",
            " dropout_3 (Dropout)         (None, 512)               0         \n",
            "                                                                 \n",
            " dense_5 (Dense)             (None, 10)                5130      \n",
            "                                                                 \n",
            "=================================================================\n",
            "Total params: 41,208,106\n",
            "Trainable params: 30,520,202\n",
            "Non-trainable params: 10,687,904\n",
            "_________________________________________________________________\n"
          ]
        }
      ],
      "source": [
        "# Creating model\n",
        "inp_shape= (150, 150, 3)\n",
        "dropout_rate= .25\n",
        "train_layers_after= 249\n",
        "incv3_model= inceptionv3(inp_shape, dropout_rate, train_layers_after)\n",
        "incv3_model.summary()"
      ]
    },
    {
      "cell_type": "code",
      "execution_count": null,
      "metadata": {
        "colab": {
          "background_save": true
        },
        "id": "ZBHx2Ps4lqkf"
      },
      "outputs": [],
      "source": [
        "# Loading data into cache to overcome data bottleneck during training.\n",
        "AUTOTUNE= tf.data.AUTOTUNE\n",
        "AUTOTUNE= tf.data.experimental.AUTOTUNE\n",
        "\n",
        "# Shuffling data before starting of each epoch\n",
        "train_ds= train_ds.cache().shuffle(1000).prefetch(buffer_size= AUTOTUNE)\n",
        "val_ds= val_ds.cache().prefetch(buffer_size= AUTOTUNE)"
      ]
    },
    {
      "cell_type": "code",
      "execution_count": null,
      "metadata": {
        "colab": {
          "background_save": true
        },
        "id": "o-Q_vlDmlsOe"
      },
      "outputs": [],
      "source": [
        "# Setting callbacks\n",
        "\n",
        "base_path= '/content/BA865_2-main/models/'\n",
        "\n",
        "filepath= base_path + 'model-{epoch:05d}-{loss:.5f}-{sparse_categorical_accuracy:.5f}-{val_loss:.5f}-{val_sparse_categorical_accuracy:.5f}.h5'\n",
        "\n",
        "checkpoint= ModelCheckpoint(filepath, monitor= 'val_sparse_categorical_accuracy', verbose= 1, \n",
        "                            save_best_only= True, save_weights_only= False, mode= 'auto')\n",
        "\n",
        "LR= ReduceLROnPlateau(monitor= 'val_loss', factor= 0.1, patience= 30, verbose= 1)\n",
        "callbacks_list= [checkpoint, LR]"
      ]
    },
    {
      "cell_type": "markdown",
      "metadata": {
        "id": "KsUVkQ65lzGU"
      },
      "source": [
        "### 4.4 Model evaluation"
      ]
    },
    {
      "cell_type": "code",
      "execution_count": null,
      "metadata": {
        "colab": {
          "background_save": true
        },
        "id": "QOPPQEoLltxU",
        "outputId": "92cf7ca1-4fcc-4cf6-abca-089d2fc41f28"
      },
      "outputs": [
        {
          "name": "stdout",
          "output_type": "stream",
          "text": [
            "Epoch 1/20\n",
            "42/42 [==============================] - ETA: 0s - loss: 25.5347 - sparse_categorical_accuracy: 0.3842\n",
            "Epoch 1: val_sparse_categorical_accuracy improved from -inf to 0.55505, saving model to /content/BA865_2-main/models/model-00001-25.53466-0.38424-19.90107-0.55505.h5\n",
            "42/42 [==============================] - 16s 160ms/step - loss: 25.5347 - sparse_categorical_accuracy: 0.3842 - val_loss: 19.9011 - val_sparse_categorical_accuracy: 0.5551 - lr: 0.0010\n",
            "Epoch 2/20\n",
            "42/42 [==============================] - ETA: 0s - loss: 10.5726 - sparse_categorical_accuracy: 0.6467\n",
            "Epoch 2: val_sparse_categorical_accuracy improved from 0.55505 to 0.68175, saving model to /content/BA865_2-main/models/model-00002-10.57263-0.64668-8.52518-0.68175.h5\n",
            "42/42 [==============================] - 4s 94ms/step - loss: 10.5726 - sparse_categorical_accuracy: 0.6467 - val_loss: 8.5252 - val_sparse_categorical_accuracy: 0.6817 - lr: 0.0010\n",
            "Epoch 3/20\n",
            "42/42 [==============================] - ETA: 0s - loss: 5.6889 - sparse_categorical_accuracy: 0.7240\n",
            "Epoch 3: val_sparse_categorical_accuracy improved from 0.68175 to 0.73303, saving model to /content/BA865_2-main/models/model-00003-5.68890-0.72398-4.73643-0.73303.h5\n",
            "42/42 [==============================] - 4s 99ms/step - loss: 5.6889 - sparse_categorical_accuracy: 0.7240 - val_loss: 4.7364 - val_sparse_categorical_accuracy: 0.7330 - lr: 0.0010\n",
            "Epoch 4/20\n",
            "42/42 [==============================] - ETA: 0s - loss: 3.7684 - sparse_categorical_accuracy: 0.7485\n",
            "Epoch 4: val_sparse_categorical_accuracy improved from 0.73303 to 0.74962, saving model to /content/BA865_2-main/models/model-00004-3.76841-0.74849-3.53754-0.74962.h5\n",
            "42/42 [==============================] - 4s 94ms/step - loss: 3.7684 - sparse_categorical_accuracy: 0.7485 - val_loss: 3.5375 - val_sparse_categorical_accuracy: 0.7496 - lr: 0.0010\n",
            "Epoch 5/20\n",
            "42/42 [==============================] - ETA: 0s - loss: 2.8560 - sparse_categorical_accuracy: 0.7787\n",
            "Epoch 5: val_sparse_categorical_accuracy improved from 0.74962 to 0.76772, saving model to /content/BA865_2-main/models/model-00005-2.85602-0.77866-2.78054-0.76772.h5\n",
            "42/42 [==============================] - 4s 95ms/step - loss: 2.8560 - sparse_categorical_accuracy: 0.7787 - val_loss: 2.7805 - val_sparse_categorical_accuracy: 0.7677 - lr: 0.0010\n",
            "Epoch 6/20\n",
            "42/42 [==============================] - ETA: 0s - loss: 2.3350 - sparse_categorical_accuracy: 0.8028\n",
            "Epoch 6: val_sparse_categorical_accuracy improved from 0.76772 to 0.77828, saving model to /content/BA865_2-main/models/model-00006-2.33502-0.80279-2.32135-0.77828.h5\n",
            "42/42 [==============================] - 4s 98ms/step - loss: 2.3350 - sparse_categorical_accuracy: 0.8028 - val_loss: 2.3213 - val_sparse_categorical_accuracy: 0.7783 - lr: 0.0010\n",
            "Epoch 7/20\n",
            "42/42 [==============================] - ETA: 0s - loss: 2.0177 - sparse_categorical_accuracy: 0.8024\n",
            "Epoch 7: val_sparse_categorical_accuracy did not improve from 0.77828\n",
            "42/42 [==============================] - 3s 72ms/step - loss: 2.0177 - sparse_categorical_accuracy: 0.8024 - val_loss: 2.2205 - val_sparse_categorical_accuracy: 0.7541 - lr: 0.0010\n",
            "Epoch 8/20\n",
            "42/42 [==============================] - ETA: 0s - loss: 1.7486 - sparse_categorical_accuracy: 0.8292\n",
            "Epoch 8: val_sparse_categorical_accuracy improved from 0.77828 to 0.80090, saving model to /content/BA865_2-main/models/model-00008-1.74865-0.82919-1.87239-0.80090.h5\n",
            "42/42 [==============================] - 4s 95ms/step - loss: 1.7486 - sparse_categorical_accuracy: 0.8292 - val_loss: 1.8724 - val_sparse_categorical_accuracy: 0.8009 - lr: 0.0010\n",
            "Epoch 9/20\n",
            "42/42 [==============================] - ETA: 0s - loss: 1.5523 - sparse_categorical_accuracy: 0.8454\n",
            "Epoch 9: val_sparse_categorical_accuracy did not improve from 0.80090\n",
            "42/42 [==============================] - 3s 72ms/step - loss: 1.5523 - sparse_categorical_accuracy: 0.8454 - val_loss: 1.9866 - val_sparse_categorical_accuracy: 0.7285 - lr: 0.0010\n",
            "Epoch 10/20\n",
            "42/42 [==============================] - ETA: 0s - loss: 1.4186 - sparse_categorical_accuracy: 0.8382\n",
            "Epoch 10: val_sparse_categorical_accuracy did not improve from 0.80090\n",
            "42/42 [==============================] - 3s 73ms/step - loss: 1.4186 - sparse_categorical_accuracy: 0.8382 - val_loss: 1.7740 - val_sparse_categorical_accuracy: 0.7768 - lr: 0.0010\n",
            "Epoch 11/20\n",
            "42/42 [==============================] - ETA: 0s - loss: 1.2494 - sparse_categorical_accuracy: 0.8609\n",
            "Epoch 11: val_sparse_categorical_accuracy improved from 0.80090 to 0.82353, saving model to /content/BA865_2-main/models/model-00011-1.24936-0.86086-1.55988-0.82353.h5\n",
            "42/42 [==============================] - 4s 94ms/step - loss: 1.2494 - sparse_categorical_accuracy: 0.8609 - val_loss: 1.5599 - val_sparse_categorical_accuracy: 0.8235 - lr: 0.0010\n",
            "Epoch 12/20\n",
            "42/42 [==============================] - ETA: 0s - loss: 1.2199 - sparse_categorical_accuracy: 0.8522\n",
            "Epoch 12: val_sparse_categorical_accuracy did not improve from 0.82353\n",
            "42/42 [==============================] - 3s 73ms/step - loss: 1.2199 - sparse_categorical_accuracy: 0.8522 - val_loss: 1.9605 - val_sparse_categorical_accuracy: 0.7179 - lr: 0.0010\n",
            "Epoch 13/20\n",
            "42/42 [==============================] - ETA: 0s - loss: 1.1017 - sparse_categorical_accuracy: 0.8639\n",
            "Epoch 13: val_sparse_categorical_accuracy did not improve from 0.82353\n",
            "42/42 [==============================] - 3s 72ms/step - loss: 1.1017 - sparse_categorical_accuracy: 0.8639 - val_loss: 1.3050 - val_sparse_categorical_accuracy: 0.8175 - lr: 0.0010\n",
            "Epoch 14/20\n",
            "42/42 [==============================] - ETA: 0s - loss: 0.9650 - sparse_categorical_accuracy: 0.8865\n",
            "Epoch 14: val_sparse_categorical_accuracy did not improve from 0.82353\n",
            "42/42 [==============================] - 3s 73ms/step - loss: 0.9650 - sparse_categorical_accuracy: 0.8865 - val_loss: 1.4046 - val_sparse_categorical_accuracy: 0.8084 - lr: 0.0010\n",
            "Epoch 15/20\n",
            "42/42 [==============================] - ETA: 0s - loss: 0.8931 - sparse_categorical_accuracy: 0.8861\n",
            "Epoch 15: val_sparse_categorical_accuracy improved from 0.82353 to 0.82956, saving model to /content/BA865_2-main/models/model-00015-0.89307-0.88612-1.20763-0.82956.h5\n",
            "42/42 [==============================] - 4s 94ms/step - loss: 0.8931 - sparse_categorical_accuracy: 0.8861 - val_loss: 1.2076 - val_sparse_categorical_accuracy: 0.8296 - lr: 0.0010\n",
            "Epoch 16/20\n",
            "42/42 [==============================] - ETA: 0s - loss: 0.8117 - sparse_categorical_accuracy: 0.8940\n",
            "Epoch 16: val_sparse_categorical_accuracy did not improve from 0.82956\n",
            "42/42 [==============================] - 3s 73ms/step - loss: 0.8117 - sparse_categorical_accuracy: 0.8940 - val_loss: 1.3892 - val_sparse_categorical_accuracy: 0.7813 - lr: 0.0010\n",
            "Epoch 17/20\n",
            "42/42 [==============================] - ETA: 0s - loss: 0.7686 - sparse_categorical_accuracy: 0.8925\n",
            "Epoch 17: val_sparse_categorical_accuracy improved from 0.82956 to 0.83560, saving model to /content/BA865_2-main/models/model-00017-0.76856-0.89253-1.11362-0.83560.h5\n",
            "42/42 [==============================] - 4s 94ms/step - loss: 0.7686 - sparse_categorical_accuracy: 0.8925 - val_loss: 1.1136 - val_sparse_categorical_accuracy: 0.8356 - lr: 0.0010\n",
            "Epoch 18/20\n",
            "42/42 [==============================] - ETA: 0s - loss: 0.7961 - sparse_categorical_accuracy: 0.8873\n",
            "Epoch 18: val_sparse_categorical_accuracy did not improve from 0.83560\n",
            "42/42 [==============================] - 3s 73ms/step - loss: 0.7961 - sparse_categorical_accuracy: 0.8873 - val_loss: 1.2903 - val_sparse_categorical_accuracy: 0.7738 - lr: 0.0010\n",
            "Epoch 19/20\n",
            "42/42 [==============================] - ETA: 0s - loss: 0.7896 - sparse_categorical_accuracy: 0.8940\n",
            "Epoch 19: val_sparse_categorical_accuracy did not improve from 0.83560\n",
            "42/42 [==============================] - 3s 72ms/step - loss: 0.7896 - sparse_categorical_accuracy: 0.8940 - val_loss: 1.4848 - val_sparse_categorical_accuracy: 0.7677 - lr: 0.0010\n",
            "Epoch 20/20\n",
            "42/42 [==============================] - ETA: 0s - loss: 0.7657 - sparse_categorical_accuracy: 0.8865\n",
            "Epoch 20: val_sparse_categorical_accuracy did not improve from 0.83560\n",
            "42/42 [==============================] - 3s 73ms/step - loss: 0.7657 - sparse_categorical_accuracy: 0.8865 - val_loss: 1.2956 - val_sparse_categorical_accuracy: 0.7949 - lr: 0.0010\n"
          ]
        }
      ],
      "source": [
        "# Model training\n",
        "epochs= 20\n",
        "steps_per_epoch= math.ceil(2652/batch_size)\n",
        "validation_steps= math.ceil(663/batch_size)\n",
        "\n",
        "history= incv3_model.fit(train_ds, validation_data= val_ds, steps_per_epoch= steps_per_epoch, epochs= epochs, callbacks= callbacks_list, validation_steps= validation_steps)"
      ]
    },
    {
      "cell_type": "code",
      "execution_count": null,
      "metadata": {
        "colab": {
          "background_save": true
        },
        "id": "UrAEWGD7lyW6",
        "outputId": "952799ff-f798-4f6a-a4be-c091aa4e5d3a"
      },
      "outputs": [
        {
          "data": {
            "image/png": "[encoded data removed]",
            "text/plain": [
              "<Figure size 576x576 with 2 Axes>"
            ]
          },
          "metadata": {},
          "output_type": "display_data"
        }
      ],
      "source": [
        "acc= history.history['sparse_categorical_accuracy']\n",
        "val_acc= history.history['val_sparse_categorical_accuracy']\n",
        "\n",
        "loss = history.history['loss']\n",
        "val_loss = history.history['val_loss']\n",
        "\n",
        "epochs_range = range(epochs)\n",
        "\n",
        "plt.figure(figsize=(8, 8))\n",
        "plt.subplot(1, 2, 1)\n",
        "plt.plot(epochs_range, acc, label='Training Accuracy')\n",
        "plt.plot(epochs_range, val_acc, label='Validation Accuracy')\n",
        "plt.legend(loc='lower right')\n",
        "\n",
        "plt.subplot(1, 2, 2)\n",
        "plt.plot(epochs_range, loss, label='Training Loss')\n",
        "plt.plot(epochs_range, val_loss, label='Validation Loss')\n",
        "plt.legend(loc='upper right')\n",
        "plt.show()"
      ]
    },
    {
      "cell_type": "markdown",
      "source": [
        "Depends on the running result：\n",
        "- Best Epoch: 16 \n",
        "- **Training: loss: .08 - categorical_accuracy: 0.89**\n",
        "- **Validation: val_loss: .68 - val_sparse_categorical_accuracy: 0.7949**"
      ],
      "metadata": {
        "id": "gSVBt72n3Y_9"
      }
    },
    {
      "cell_type": "markdown",
      "metadata": {
        "id": "n2jdH5v2iIWL"
      },
      "source": [
        "## 5. Pytorch Model(DensenNet) (70.80%)"
      ]
    },
    {
      "cell_type": "markdown",
      "metadata": {
        "id": "89bz3WJ7UBb8"
      },
      "source": [
        "### 5.1 Transform image"
      ]
    },
    {
      "cell_type": "code",
      "execution_count": null,
      "metadata": {
        "id": "dvV4WW5PULnQ"
      },
      "outputs": [],
      "source": [
        "dataset = '/tmp/BA865-main/Images'"
      ]
    },
    {
      "cell_type": "code",
      "execution_count": null,
      "metadata": {
        "id": "5KXA6w7xUQA8"
      },
      "outputs": [],
      "source": [
        "# Specify transforms using torchvision.transforms as transforms\n",
        "# library\n",
        "transformations = transforms.Compose([\n",
        "    transforms.Resize(255),\n",
        "    transforms.CenterCrop(224),\n",
        "    transforms.ToTensor(),\n",
        "#    transforms.Normalize(mean=[0.485, 0.456, 0.406], std=[0.229, 0.224, 0.225])\n",
        "])"
      ]
    },
    {
      "cell_type": "code",
      "execution_count": null,
      "metadata": {
        "id": "LkQI6lg4UTA8"
      },
      "outputs": [],
      "source": [
        "from torchvision.datasets import ImageFolder\n",
        "df = ImageFolder(dataset, transform = transformations)"
      ]
    },
    {
      "cell_type": "markdown",
      "metadata": {
        "id": "sBapXfkZUo3w"
      },
      "source": [
        "### 5.2 Vislization"
      ]
    },
    {
      "cell_type": "code",
      "execution_count": null,
      "metadata": {
        "id": "CG2Ocv1xUsNu"
      },
      "outputs": [],
      "source": [
        "import matplotlib.pyplot as plt\n",
        "%matplotlib inline\n",
        "def show_sample(img, label):\n",
        "    print(\"Label:\", df.classes[label], \"(Class No: \"+ str(label) + \")\")\n",
        "    plt.imshow(img.permute(1, 2, 0))\n",
        "img, label = df[0]\n",
        "show_sample(img, label)"
      ]
    },
    {
      "cell_type": "code",
      "execution_count": null,
      "metadata": {
        "id": "5JEY7n-yUutt"
      },
      "outputs": [],
      "source": [
        "df.classes[0]"
      ]
    },
    {
      "cell_type": "code",
      "execution_count": null,
      "metadata": {
        "id": "1anbjd6sU_WD"
      },
      "outputs": [],
      "source": [
        "len(df)"
      ]
    },
    {
      "cell_type": "markdown",
      "metadata": {
        "id": "lLNnOgLgU0eQ"
      },
      "source": [
        "### 5.3 Split dataset"
      ]
    },
    {
      "cell_type": "code",
      "execution_count": null,
      "metadata": {
        "id": "7bIzNjBkU5fG"
      },
      "outputs": [],
      "source": [
        "from torch.utils.data import random_split\n",
        "train_set, test_set = random_split(df, [12000, 3282])\n",
        "len(train_set), len(test_set)"
      ]
    },
    {
      "cell_type": "code",
      "execution_count": null,
      "metadata": {
        "id": "T3dOitW4VFR-"
      },
      "outputs": [],
      "source": [
        "# Put into a Dataloader using torch library\n",
        "train_loader = torch.utils.data.DataLoader(train_set, batch_size=32, shuffle=True)\n",
        "test_loader = torch.utils.data.DataLoader(test_set, batch_size =32, shuffle=True)"
      ]
    },
    {
      "cell_type": "markdown",
      "metadata": {
        "id": "RHcKxscIVIAQ"
      },
      "source": [
        "### 5.4 Import pytorch pre-trained model"
      ]
    },
    {
      "cell_type": "code",
      "execution_count": null,
      "metadata": {
        "id": "Bx27UUqxVOZ8"
      },
      "outputs": [],
      "source": [
        "# Get pretrained model using torchvision.models as models library\n",
        "model = models.densenet161(pretrained=True)\n",
        "# Turn off training for their parameters\n",
        "for param in model.parameters():\n",
        "    param.requires_grad = False"
      ]
    },
    {
      "cell_type": "code",
      "execution_count": null,
      "metadata": {
        "id": "wlVt1Io_VR_Q"
      },
      "outputs": [],
      "source": [
        "# Create new classifier for model using torch.nn as nn library\n",
        "classifier_input = model.classifier.in_features\n",
        "num_labels = 67\n",
        "classifier = nn.Sequential(nn.Linear(classifier_input, 1024),\n",
        "                           nn.ReLU(),\n",
        "                           nn.Linear(1024, 512),\n",
        "                           nn.ReLU(),\n",
        "                           nn.Linear(512, num_labels),\n",
        "                           nn.LogSoftmax(dim=1))\n",
        "# Replace default classifier with new classifier\n",
        "model.classifier = classifier"
      ]
    },
    {
      "cell_type": "code",
      "execution_count": null,
      "metadata": {
        "id": "e39nwJs6VW6P"
      },
      "outputs": [],
      "source": [
        "# Find the device available to use using torch library\n",
        "device = torch.device(\"cuda\" if torch.cuda.is_available() else \"cpu\")\n",
        "# Move model to the device specified above\n",
        "model.to(device)"
      ]
    },
    {
      "cell_type": "code",
      "execution_count": null,
      "metadata": {
        "id": "4dKSRo19Vcmv"
      },
      "outputs": [],
      "source": [
        "# Set the error function using torch.nn as nn library\n",
        "criterion = nn.NLLLoss()\n",
        "# Set the optimizer function using torch.optim as optim library\n",
        "optimizer = optim.Adam(model.classifier.parameters())"
      ]
    },
    {
      "cell_type": "markdown",
      "metadata": {
        "id": "l0KNuRQ4VedY"
      },
      "source": [
        "### 5.5 Model evaluation"
      ]
    },
    {
      "cell_type": "code",
      "execution_count": null,
      "metadata": {
        "id": "QNeus3HPVjLC"
      },
      "outputs": [],
      "source": [
        "epochs = 10\n",
        "for epoch in range(epochs):\n",
        "    train_loss = 0\n",
        "    val_loss = 0\n",
        "    accuracy = 0\n",
        "    \n",
        "    # Training the model\n",
        "    model.train()\n",
        "    counter = 0\n",
        "    for inputs, labels in train_loader:\n",
        "        # Move to device\n",
        "        inputs, labels = inputs.to(device), labels.to(device)\n",
        "        # Clear optimizers\n",
        "        optimizer.zero_grad()\n",
        "        # Forward pass\n",
        "        output = model.forward(inputs)\n",
        "        # Loss\n",
        "        loss = criterion(output, labels)\n",
        "        # Calculate gradients (backpropogation)\n",
        "        loss.backward()\n",
        "        # Adjust parameters based on gradients\n",
        "        optimizer.step()\n",
        "        # Add the loss to the training set's rnning loss\n",
        "        train_loss += loss.item()*inputs.size(0)\n",
        "        \n",
        "        # Print the progress of our training\n",
        "        counter += 1\n",
        "        print(counter, \"/\", len(train_loader))\n",
        "        \n",
        "    # Evaluating the model\n",
        "    model.eval()\n",
        "    counter = 0\n",
        "    # Tell torch not to calculate gradients\n",
        "    with torch.no_grad():\n",
        "        for inputs, labels in test_loader:\n",
        "            # Move to device\n",
        "            inputs, labels = inputs.to(device), labels.to(device)\n",
        "            # Forward pass\n",
        "            output = model.forward(inputs)\n",
        "            # Calculate Loss\n",
        "            valloss = criterion(output, labels)\n",
        "            # Add loss to the validation set's running loss\n",
        "            val_loss += valloss.item()*inputs.size(0)\n",
        "            \n",
        "            # Since our model outputs a LogSoftmax, find the real \n",
        "            # percentages by reversing the log function\n",
        "            output = torch.exp(output)\n",
        "            # Get the top class of the output\n",
        "            top_p, top_class = output.topk(1, dim=1)\n",
        "            # See how many of the classes were correct?\n",
        "            equals = top_class == labels.view(*top_class.shape)\n",
        "            # Calculate the mean (get the accuracy for this batch)\n",
        "            # and add it to the running accuracy for this epoch\n",
        "            accuracy += torch.mean(equals.type(torch.FloatTensor)).item()\n",
        "            \n",
        "            # Print the progress of our evaluation\n",
        "            counter += 1\n",
        "            print(counter, \"/\", len(test_loader))\n",
        "    \n",
        "    # Get the average loss for the entire epoch\n",
        "    train_loss = train_loss/len(train_loader.dataset)\n",
        "    valid_loss = val_loss/len(test_loader.dataset)\n",
        "    # Print out the information\n",
        "    print('Accuracy: ', accuracy/len(test_loader))\n",
        "    print('Epoch: {} \\tTraining Loss: {:.6f} \\tValidation Loss: {:.6f}'.format(epoch, train_loss, valid_loss))"
      ]
    },
    {
      "cell_type": "markdown",
      "metadata": {
        "id": "v4IMJ_7gXPg0"
      },
      "source": [
        "**Best Performance**:  \n",
        "Accuracy:70.8%   \n",
        "Training loss: 0.468517  \n",
        "Validation Loss: 1.165374"
      ]
    },
    {
      "cell_type": "markdown",
      "metadata": {
        "id": "Mp5feouRXahJ"
      },
      "source": [
        "### 5.6 Preprocess for prediction"
      ]
    },
    {
      "cell_type": "code",
      "execution_count": null,
      "metadata": {
        "id": "RbgBvuI5XftO"
      },
      "outputs": [],
      "source": [
        "# Process our image\n",
        "def process_image(image_path):\n",
        "    # Load Image\n",
        "    img = Image.open(image_path)\n",
        "    \n",
        "    # Get the dimensions of the image\n",
        "    width, height = img.size\n",
        "    \n",
        "    # Resize by keeping the aspect ratio, but changing the dimension\n",
        "    # so the shortest size is 255px\n",
        "    img = img.resize((255, int(255*(height/width))) if width < height else (int(255*(width/height)), 255))\n",
        "    \n",
        "    # Get the dimensions of the new image size\n",
        "    width, height = img.size\n",
        "    \n",
        "    # Set the coordinates to do a center crop of 224 x 224\n",
        "    left = (width - 224)/2\n",
        "    top = (height - 224)/2\n",
        "    right = (width + 224)/2\n",
        "    bottom = (height + 224)/2\n",
        "    img = img.crop((left, top, right, bottom))\n",
        "    \n",
        "    # Turn image into numpy array\n",
        "    img = np.array(img)\n",
        "    \n",
        "    # Make the color channel dimension first instead of last\n",
        "    img = img.transpose((2, 0, 1))\n",
        "    \n",
        "    # Make all values between 0 and 1\n",
        "    img = img/255\n",
        "    \n",
        "    # Normalize based on the preset mean and standard deviation\n",
        "    img[0] = (img[0] - 0.485)/0.229\n",
        "    img[1] = (img[1] - 0.456)/0.224\n",
        "    img[2] = (img[2] - 0.406)/0.225\n",
        "    \n",
        "    # Add a fourth dimension to the beginning to indicate batch size\n",
        "    img = img[np.newaxis,:]\n",
        "    \n",
        "    # Turn into a torch tensor\n",
        "    image = torch.from_numpy(img)\n",
        "    image = image.float()\n",
        "    return image"
      ]
    },
    {
      "cell_type": "code",
      "execution_count": null,
      "metadata": {
        "id": "c20wMjJLXj1g"
      },
      "outputs": [],
      "source": [
        "# Using our model to predict the label\n",
        "def predict(image, model):\n",
        "    # Pass the image through our model\n",
        "    output = model.forward(image)\n",
        "    \n",
        "    # Reverse the log function in our output\n",
        "    output = torch.exp(output)\n",
        "    \n",
        "    # Get the top predicted class, and the output percentage for\n",
        "    # that class\n",
        "    probs, classes = output.topk(1, dim=1)\n",
        "    return probs.item(), classes.item()"
      ]
    },
    {
      "cell_type": "code",
      "execution_count": null,
      "metadata": {
        "id": "9Rzjp8VwXmC2"
      },
      "outputs": [],
      "source": [
        "# Show Image\n",
        "def show_image(image):\n",
        "    # Convert image to numpy\n",
        "    image = image.numpy()\n",
        "    \n",
        "    # Un-normalize the image\n",
        "    image[0] = image[0] * 0.226 + 0.445\n",
        "    \n",
        "    # Print the image\n",
        "    fig = plt.figure(figsize=(25, 4))\n",
        "    plt.imshow(np.transpose(image[0], (1, 2, 0)))"
      ]
    },
    {
      "cell_type": "markdown",
      "metadata": {
        "id": "pmc9i-4iXtq4"
      },
      "source": [
        "### 5.7 Prediction"
      ]
    },
    {
      "cell_type": "code",
      "execution_count": null,
      "metadata": {
        "id": "ztFtG1JsXw9B"
      },
      "outputs": [],
      "source": [
        "# Process Image\n",
        "image = process_image(\"/tmp/BA865-main/Images/bar/bar_0001.jpg\")\n",
        "image=image.cuda()\n",
        "# Give image to model to predict output\n",
        "top_prob, top_class = predict(image, model)\n",
        "# Show the image\n",
        "image = image.cpu()\n",
        "show_image(image)\n",
        "# Print the results\n",
        "print(\"The model is \", top_prob*100, \"% certain that the image has a predicted class of \", top_class  )"
      ]
    },
    {
      "cell_type": "code",
      "execution_count": null,
      "metadata": {
        "id": "zOaEZcosX0LK"
      },
      "outputs": [],
      "source": [
        "df.classes[4]"
      ]
    },
    {
      "cell_type": "code",
      "execution_count": null,
      "metadata": {
        "id": "3rTdjJBiX2L0"
      },
      "outputs": [],
      "source": [
        "# Process Image\n",
        "image = process_image(\"/tmp/BA865-main/Images/buffet/060926buffet_560.jpg\")\n",
        "image=image.cuda()\n",
        "# Give image to model to predict output\n",
        "top_prob, top_class = predict(image, model)\n",
        "# Show the image\n",
        "image = image.cpu()\n",
        "show_image(image)\n",
        "# Print the results\n",
        "print(\"The model is \", top_prob*100, \"% certain that the image has a predicted class of \", top_class  )"
      ]
    },
    {
      "cell_type": "code",
      "execution_count": null,
      "metadata": {
        "id": "QBMmnORgX4YM"
      },
      "outputs": [],
      "source": [
        "df.classes[9]"
      ]
    },
    {
      "cell_type": "markdown",
      "metadata": {
        "id": "u0nxDZTlD2Mw"
      },
      "source": [
        "## 6. Benchmark"
      ]
    },
    {
      "cell_type": "markdown",
      "metadata": {
        "id": "XzccXPa1EZw_"
      },
      "source": [
        "### "
      ]
    },
    {
      "cell_type": "code",
      "execution_count": null,
      "metadata": {
        "id": "KXmkMtD1EY1T"
      },
      "outputs": [],
      "source": [
        "# import matplotlib.pyplot as plt\n",
        "# import seaborn as sns\n",
        "\n",
        "# import keras\n",
        "# from keras.models import Sequential\n",
        "# from keras.layers import Dense, Conv2D , MaxPool2D , Flatten , Dropout \n",
        "# from keras.preprocessing.image import ImageDataGenerator\n",
        "\n",
        "# from sklearn.metrics import classification_report,confusion_matrix\n",
        "\n",
        "# import tensorflow as tf\n",
        "\n",
        "# import cv2\n",
        "# import os\n",
        "\n",
        "# import numpy as np"
      ]
    },
    {
      "cell_type": "code",
      "execution_count": null,
      "metadata": {
        "id": "xV2BFRBwFWYM"
      },
      "outputs": [],
      "source": [
        "# classes = os.listdir(dataset)"
      ]
    },
    {
      "cell_type": "code",
      "execution_count": null,
      "metadata": {
        "id": "WxlWxSitFoaI"
      },
      "outputs": [],
      "source": [
        "# labels = classes\n",
        "# img_size = 180\n",
        "# def get_data(data_dir):\n",
        "#     data = [] \n",
        "#     for label in labels: \n",
        "#         path = os.path.join(data_dir, label)\n",
        "#         class_num = labels.index(label)\n",
        "#         for img in os.listdir(path):\n",
        "#             try:\n",
        "#                 img_arr = cv2.imread(os.path.join(path, img))[...,::-1] #convert BGR to RGB format\n",
        "#                 resized_arr = cv2.resize(img_arr, (img_size, img_size)) # Reshaping images to preferred size\n",
        "#                 data.append([resized_arr, class_num])\n",
        "#             except Exception as e:\n",
        "#                 print(e)"
      ]
    },
    {
      "cell_type": "code",
      "execution_count": null,
      "metadata": {
        "id": "DAi7MqQgNvZv"
      },
      "outputs": [],
      "source": [
        "# train = get_data('/tmp/BA865-main/Images2/train')\n",
        "# val = get_data('/tmp/BA865-main/Images2/val')"
      ]
    },
    {
      "cell_type": "code",
      "execution_count": null,
      "metadata": {
        "id": "Gf8V8-WgOu7v"
      },
      "outputs": [],
      "source": [
        "# train = [x for x in train if x != None]"
      ]
    },
    {
      "cell_type": "code",
      "execution_count": null,
      "metadata": {
        "id": "TkMjJqW1N0Q9"
      },
      "outputs": [],
      "source": [
        "# x_train = []\n",
        "# y_train = []\n",
        "# x_val = []\n",
        "# y_val = []\n",
        "\n",
        "# for feature, label in train:\n",
        "#   x_train.append(feature)\n",
        "#   y_train.append(label)\n",
        "\n",
        "# for feature, label in val:\n",
        "#   x_val.append(feature)\n",
        "#   y_val.append(label)\n",
        "\n",
        "# # Normalize the data\n",
        "# x_train = np.array(x_train) / 255\n",
        "# x_val = np.array(x_val) / 255\n",
        "\n",
        "# x_train.reshape(-1, img_size, img_size, 1)\n",
        "# y_train = np.array(y_train)\n",
        "\n",
        "# x_val.reshape(-1, img_size, img_size, 1)\n",
        "# y_val = np.array(y_val)"
      ]
    },
    {
      "cell_type": "code",
      "execution_count": null,
      "metadata": {
        "id": "3iI4CgwOIP42"
      },
      "outputs": [],
      "source": [
        "# model=RandomForestClassifier()"
      ]
    },
    {
      "cell_type": "code",
      "execution_count": null,
      "metadata": {
        "id": "SbaODnKrIW4Z"
      },
      "outputs": [],
      "source": [
        "# model.fit(x_train,y_train)"
      ]
    },
    {
      "cell_type": "markdown",
      "metadata": {
        "id": "GGJktEUh9ZZd"
      },
      "source": [
        "## 7. Conclusion"
      ]
    },
    {
      "cell_type": "markdown",
      "source": [
        "**Things we learned in this project:**\n",
        "\n",
        "1.How to split the whole folder into train, test, and validation dataset\n",
        "\n",
        "2.How to move model parameters from CPU to GPU (In order for all operands of an operation to be on the same device\n",
        "\n",
        "3.How to standardize the pre-process parameters for all models for better comparison\n",
        "\n",
        "**Improvement to be made in the future：**\n",
        "\n",
        "1.Learn how to pre-processing for the large dataset with reduced RAM consumption\n",
        "\n",
        "2.In RAM’s precondition, build better layers to handle more class categories\n",
        "\n",
        "3.Improve the parameters of single layer to run more layers with a certain amount of memory\n"
      ],
      "metadata": {
        "id": "DVRAj7ksp4PM"
      }
    }
  ],
  "metadata": {
    "accelerator": "GPU",
    "colab": {
      "background_execution": "on",
      "collapsed_sections": [
        "h2xD1fJphNpM",
        "3BmgEaqQhUu3",
        "XPCtK9suhvhN",
        "dBWvuYe4UZbF",
        "n-s3Ck4JU1w0",
        "MYfhwE0yU8mW",
        "h6u6fgWMh-AL",
        "yjahrzU2j3h8",
        "VPMnVuHAsG8H",
        "INBIa6rDmgq8",
        "SseOJVBZTkrN",
        "7XcZ2LRSrBu7",
        "SAiejzE3Tt97",
        "qUOKDSMaifRA",
        "KsUVkQ65lzGU",
        "n2jdH5v2iIWL",
        "89bz3WJ7UBb8",
        "sBapXfkZUo3w",
        "lLNnOgLgU0eQ",
        "RHcKxscIVIAQ",
        "l0KNuRQ4VedY",
        "Mp5feouRXahJ",
        "u0nxDZTlD2Mw",
        "GGJktEUh9ZZd"
      ],
      "machine_shape": "hm",
      "name": "Indoor Scenes Classification.ipynb",
      "provenance": []
    },
    "kernelspec": {
      "display_name": "Python 3",
      "name": "python3"
    },
    "language_info": {
      "name": "python"
    }
  },
  "nbformat": 4,
  "nbformat_minor": 0
}